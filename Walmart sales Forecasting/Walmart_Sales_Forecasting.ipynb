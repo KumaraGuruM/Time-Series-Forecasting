{
 "cells": [
  {
   "cell_type": "markdown",
   "metadata": {},
   "source": [
    "# Walmart Sales Forecasting"
   ]
  },
  {
   "cell_type": "markdown",
   "metadata": {},
   "source": [
    "**Business Problem:** Forecasting the weekly sales of each Store and respective department for the time period (2012-11-02 to 2013-07-26) using the historical data given,"
   ]
  },
  {
   "cell_type": "markdown",
   "metadata": {},
   "source": [
    "Data availability <br>\n",
    "The data is available in four different files - Train, Test, features, Stores"
   ]
  },
  {
   "cell_type": "markdown",
   "metadata": {},
   "source": [
    "**Approach**<br>\n",
    "\n",
    "**1 Importing the libraries and dataset** <br>\n",
    "**2 Preparing the combination of the dataset** <br>\n",
    "**3 Part 1 - Regression Forecasting** <br>\n",
    "> - Data audits\n",
    "> - Data preparation\n",
    "> > - Finding Numerical and Categorical variables\n",
    "> > - Handling Missing and Outliers \n",
    "> > - Handling the categorical variables\n",
    "> - Exploratory Analysis\n",
    "> > - Sales vs Stores/Dept/Holidays\n",
    "> > - Correlation of Xs with th Sales\n",
    "> > - Coefficient of variance\n",
    "> - Feature Reduction\n",
    "> > - Using Random Forest \n",
    "> - Train and Test split\n",
    "> - Model Implementation\n",
    "> > - Random Forest\n",
    "> > - XGBoost\n",
    "> - Forecasting using the Regression model\n",
    "\n",
    "**4 Part 2 - Arima model (auto arima)**\n",
    "> - Preparing Exogenous variable (Markdown)\n",
    "> - Preparing separate array for each Store\n",
    "> - Preparing separate array for each Dept\n",
    "> - Preparing Train and Test for evaluation\n",
    "> - Model Implementation\n",
    "> - Forecasting"
   ]
  },
  {
   "cell_type": "markdown",
   "metadata": {},
   "source": [
    "### ----------------------------------------------------------------------------------------------------------------------------"
   ]
  },
  {
   "cell_type": "markdown",
   "metadata": {},
   "source": [
    "Importing the libraries"
   ]
  },
  {
   "cell_type": "code",
   "execution_count": 1,
   "metadata": {},
   "outputs": [],
   "source": [
    "import math\n",
    "import pandas as pd\n",
    "import numpy as np\n",
    "import matplotlib.pyplot as plt\n",
    "import seaborn as sns\n",
    "from math import sqrt\n",
    "#import pandas_profiling\n",
    "from sklearn.metrics import mean_squared_error"
   ]
  },
  {
   "cell_type": "code",
   "execution_count": 2,
   "metadata": {},
   "outputs": [],
   "source": [
    "import time\n",
    "import warnings\n",
    "import itertools\n",
    "import statsmodels.api as sm\n",
    "import sys\n",
    "warnings.filterwarnings(\"ignore\")\n",
    "%matplotlib inline"
   ]
  },
  {
   "cell_type": "code",
   "execution_count": 3,
   "metadata": {},
   "outputs": [],
   "source": [
    "start_time_1 = time.time()"
   ]
  },
  {
   "cell_type": "markdown",
   "metadata": {},
   "source": [
    "**Importing the Datasets**"
   ]
  },
  {
   "cell_type": "code",
   "execution_count": 4,
   "metadata": {},
   "outputs": [],
   "source": [
    "features = pd.read_csv('features.csv')\n",
    "stores = pd.read_csv('stores.csv')\n",
    "train = pd.read_csv('train.csv')\n",
    "test = pd.read_csv('test.csv')\n",
    "sample_out = pd.read_csv('sampleSubmission.csv')"
   ]
  },
  {
   "cell_type": "markdown",
   "metadata": {},
   "source": [
    "**Preparing the combination of datasets**"
   ]
  },
  {
   "cell_type": "code",
   "execution_count": 5,
   "metadata": {},
   "outputs": [],
   "source": [
    "features['Date'] = pd.to_datetime(features['Date'],format='%Y-%m-%d')\n",
    "train['Date'] = pd.to_datetime(train['Date'],format='%Y-%m-%d')\n",
    "test['Date'] = pd.to_datetime(test['Date'],format='%Y-%m-%d')"
   ]
  },
  {
   "cell_type": "code",
   "execution_count": 6,
   "metadata": {},
   "outputs": [],
   "source": [
    "train.columns;"
   ]
  },
  {
   "cell_type": "code",
   "execution_count": 7,
   "metadata": {},
   "outputs": [],
   "source": [
    "features.columns;"
   ]
  },
  {
   "cell_type": "code",
   "execution_count": 8,
   "metadata": {},
   "outputs": [],
   "source": [
    "stores.columns;"
   ]
  },
  {
   "cell_type": "code",
   "execution_count": 9,
   "metadata": {},
   "outputs": [],
   "source": [
    "comb_train = pd.merge(train,features,how='inner',on=['Date','Store'])\n",
    "comb_train = pd.merge(comb_train,stores,how='inner',on='Store')\n",
    "\n",
    "comb_test = pd.merge(test,features,how='inner',on=['Date','Store'])\n",
    "comb_test = pd.merge(comb_test,stores,how='inner',on='Store')"
   ]
  },
  {
   "cell_type": "code",
   "execution_count": 10,
   "metadata": {},
   "outputs": [],
   "source": [
    "comb_train.columns;"
   ]
  },
  {
   "cell_type": "code",
   "execution_count": 11,
   "metadata": {},
   "outputs": [
    {
     "data": {
      "text/plain": [
       "((421570, 17), (421570, 5), (8190, 12), (45, 3))"
      ]
     },
     "execution_count": 11,
     "metadata": {},
     "output_type": "execute_result"
    }
   ],
   "source": [
    "comb_train.shape, train.shape, features.shape, stores.shape"
   ]
  },
  {
   "cell_type": "code",
   "execution_count": 12,
   "metadata": {},
   "outputs": [
    {
     "data": {
      "text/plain": [
       "((115064, 16), (115064, 4), (8190, 12), (45, 3))"
      ]
     },
     "execution_count": 12,
     "metadata": {},
     "output_type": "execute_result"
    }
   ],
   "source": [
    "comb_test.shape, test.shape, features.shape, stores.shape"
   ]
  },
  {
   "cell_type": "code",
   "execution_count": 13,
   "metadata": {},
   "outputs": [],
   "source": [
    "comb_train;"
   ]
  },
  {
   "cell_type": "code",
   "execution_count": 14,
   "metadata": {},
   "outputs": [],
   "source": [
    "#comb_train.to_excel('comb_train.xlsx')"
   ]
  },
  {
   "cell_type": "markdown",
   "metadata": {},
   "source": [
    "### ----------------------------------------------------------------------------------------------------------------------------"
   ]
  },
  {
   "cell_type": "markdown",
   "metadata": {},
   "source": [
    "## Part I - Forecasting using Regression"
   ]
  },
  {
   "cell_type": "code",
   "execution_count": 15,
   "metadata": {},
   "outputs": [],
   "source": [
    "comb_train; comb_test;"
   ]
  },
  {
   "cell_type": "markdown",
   "metadata": {},
   "source": [
    "**Data audit**"
   ]
  },
  {
   "cell_type": "code",
   "execution_count": 16,
   "metadata": {},
   "outputs": [
    {
     "data": {
      "text/html": [
       "<div>\n",
       "<style scoped>\n",
       "    .dataframe tbody tr th:only-of-type {\n",
       "        vertical-align: middle;\n",
       "    }\n",
       "\n",
       "    .dataframe tbody tr th {\n",
       "        vertical-align: top;\n",
       "    }\n",
       "\n",
       "    .dataframe thead th {\n",
       "        text-align: right;\n",
       "    }\n",
       "</style>\n",
       "<table border=\"1\" class=\"dataframe\">\n",
       "  <thead>\n",
       "    <tr style=\"text-align: right;\">\n",
       "      <th></th>\n",
       "      <th>count</th>\n",
       "      <th>mean</th>\n",
       "      <th>std</th>\n",
       "    </tr>\n",
       "  </thead>\n",
       "  <tbody>\n",
       "    <tr>\n",
       "      <td>Store</td>\n",
       "      <td>421570.0</td>\n",
       "      <td>22.200546</td>\n",
       "      <td>12.785297</td>\n",
       "    </tr>\n",
       "    <tr>\n",
       "      <td>Dept</td>\n",
       "      <td>421570.0</td>\n",
       "      <td>44.260317</td>\n",
       "      <td>30.492054</td>\n",
       "    </tr>\n",
       "    <tr>\n",
       "      <td>Weekly_Sales</td>\n",
       "      <td>421570.0</td>\n",
       "      <td>15981.258123</td>\n",
       "      <td>22711.183519</td>\n",
       "    </tr>\n",
       "    <tr>\n",
       "      <td>Temperature</td>\n",
       "      <td>421570.0</td>\n",
       "      <td>60.090059</td>\n",
       "      <td>18.447931</td>\n",
       "    </tr>\n",
       "    <tr>\n",
       "      <td>Fuel_Price</td>\n",
       "      <td>421570.0</td>\n",
       "      <td>3.361027</td>\n",
       "      <td>0.458515</td>\n",
       "    </tr>\n",
       "    <tr>\n",
       "      <td>MarkDown1</td>\n",
       "      <td>150681.0</td>\n",
       "      <td>7246.420196</td>\n",
       "      <td>8291.221345</td>\n",
       "    </tr>\n",
       "    <tr>\n",
       "      <td>MarkDown2</td>\n",
       "      <td>111248.0</td>\n",
       "      <td>3334.628621</td>\n",
       "      <td>9475.357325</td>\n",
       "    </tr>\n",
       "    <tr>\n",
       "      <td>MarkDown3</td>\n",
       "      <td>137091.0</td>\n",
       "      <td>1439.421384</td>\n",
       "      <td>9623.078290</td>\n",
       "    </tr>\n",
       "    <tr>\n",
       "      <td>MarkDown4</td>\n",
       "      <td>134967.0</td>\n",
       "      <td>3383.168256</td>\n",
       "      <td>6292.384031</td>\n",
       "    </tr>\n",
       "    <tr>\n",
       "      <td>MarkDown5</td>\n",
       "      <td>151432.0</td>\n",
       "      <td>4628.975079</td>\n",
       "      <td>5962.887455</td>\n",
       "    </tr>\n",
       "    <tr>\n",
       "      <td>CPI</td>\n",
       "      <td>421570.0</td>\n",
       "      <td>171.201947</td>\n",
       "      <td>39.159276</td>\n",
       "    </tr>\n",
       "    <tr>\n",
       "      <td>Unemployment</td>\n",
       "      <td>421570.0</td>\n",
       "      <td>7.960289</td>\n",
       "      <td>1.863296</td>\n",
       "    </tr>\n",
       "    <tr>\n",
       "      <td>Size</td>\n",
       "      <td>421570.0</td>\n",
       "      <td>136727.915739</td>\n",
       "      <td>60980.583328</td>\n",
       "    </tr>\n",
       "  </tbody>\n",
       "</table>\n",
       "</div>"
      ],
      "text/plain": [
       "                 count           mean           std\n",
       "Store         421570.0      22.200546     12.785297\n",
       "Dept          421570.0      44.260317     30.492054\n",
       "Weekly_Sales  421570.0   15981.258123  22711.183519\n",
       "Temperature   421570.0      60.090059     18.447931\n",
       "Fuel_Price    421570.0       3.361027      0.458515\n",
       "MarkDown1     150681.0    7246.420196   8291.221345\n",
       "MarkDown2     111248.0    3334.628621   9475.357325\n",
       "MarkDown3     137091.0    1439.421384   9623.078290\n",
       "MarkDown4     134967.0    3383.168256   6292.384031\n",
       "MarkDown5     151432.0    4628.975079   5962.887455\n",
       "CPI           421570.0     171.201947     39.159276\n",
       "Unemployment  421570.0       7.960289      1.863296\n",
       "Size          421570.0  136727.915739  60980.583328"
      ]
     },
     "execution_count": 16,
     "metadata": {},
     "output_type": "execute_result"
    }
   ],
   "source": [
    "comb_train.describe().T[['count','mean','std']]"
   ]
  },
  {
   "cell_type": "code",
   "execution_count": 17,
   "metadata": {},
   "outputs": [
    {
     "data": {
      "text/html": [
       "<div>\n",
       "<style scoped>\n",
       "    .dataframe tbody tr th:only-of-type {\n",
       "        vertical-align: middle;\n",
       "    }\n",
       "\n",
       "    .dataframe tbody tr th {\n",
       "        vertical-align: top;\n",
       "    }\n",
       "\n",
       "    .dataframe thead th {\n",
       "        text-align: right;\n",
       "    }\n",
       "</style>\n",
       "<table border=\"1\" class=\"dataframe\">\n",
       "  <thead>\n",
       "    <tr style=\"text-align: right;\">\n",
       "      <th></th>\n",
       "      <th>count</th>\n",
       "      <th>mean</th>\n",
       "      <th>std</th>\n",
       "    </tr>\n",
       "  </thead>\n",
       "  <tbody>\n",
       "    <tr>\n",
       "      <td>Store</td>\n",
       "      <td>115064.0</td>\n",
       "      <td>22.238207</td>\n",
       "      <td>12.809930</td>\n",
       "    </tr>\n",
       "    <tr>\n",
       "      <td>Dept</td>\n",
       "      <td>115064.0</td>\n",
       "      <td>44.339524</td>\n",
       "      <td>30.656410</td>\n",
       "    </tr>\n",
       "    <tr>\n",
       "      <td>Temperature</td>\n",
       "      <td>115064.0</td>\n",
       "      <td>53.941804</td>\n",
       "      <td>18.724153</td>\n",
       "    </tr>\n",
       "    <tr>\n",
       "      <td>Fuel_Price</td>\n",
       "      <td>115064.0</td>\n",
       "      <td>3.581546</td>\n",
       "      <td>0.239442</td>\n",
       "    </tr>\n",
       "    <tr>\n",
       "      <td>MarkDown1</td>\n",
       "      <td>114915.0</td>\n",
       "      <td>7689.216439</td>\n",
       "      <td>10698.760716</td>\n",
       "    </tr>\n",
       "    <tr>\n",
       "      <td>MarkDown2</td>\n",
       "      <td>86437.0</td>\n",
       "      <td>3734.051729</td>\n",
       "      <td>8323.495014</td>\n",
       "    </tr>\n",
       "    <tr>\n",
       "      <td>MarkDown3</td>\n",
       "      <td>105235.0</td>\n",
       "      <td>2403.088666</td>\n",
       "      <td>13767.939313</td>\n",
       "    </tr>\n",
       "    <tr>\n",
       "      <td>MarkDown4</td>\n",
       "      <td>102176.0</td>\n",
       "      <td>3356.219071</td>\n",
       "      <td>7570.501545</td>\n",
       "    </tr>\n",
       "    <tr>\n",
       "      <td>MarkDown5</td>\n",
       "      <td>115064.0</td>\n",
       "      <td>3922.681189</td>\n",
       "      <td>19445.150745</td>\n",
       "    </tr>\n",
       "    <tr>\n",
       "      <td>CPI</td>\n",
       "      <td>76902.0</td>\n",
       "      <td>176.961347</td>\n",
       "      <td>41.239967</td>\n",
       "    </tr>\n",
       "    <tr>\n",
       "      <td>Unemployment</td>\n",
       "      <td>76902.0</td>\n",
       "      <td>6.868733</td>\n",
       "      <td>1.583427</td>\n",
       "    </tr>\n",
       "    <tr>\n",
       "      <td>Size</td>\n",
       "      <td>115064.0</td>\n",
       "      <td>136497.688921</td>\n",
       "      <td>61106.926438</td>\n",
       "    </tr>\n",
       "  </tbody>\n",
       "</table>\n",
       "</div>"
      ],
      "text/plain": [
       "                 count           mean           std\n",
       "Store         115064.0      22.238207     12.809930\n",
       "Dept          115064.0      44.339524     30.656410\n",
       "Temperature   115064.0      53.941804     18.724153\n",
       "Fuel_Price    115064.0       3.581546      0.239442\n",
       "MarkDown1     114915.0    7689.216439  10698.760716\n",
       "MarkDown2      86437.0    3734.051729   8323.495014\n",
       "MarkDown3     105235.0    2403.088666  13767.939313\n",
       "MarkDown4     102176.0    3356.219071   7570.501545\n",
       "MarkDown5     115064.0    3922.681189  19445.150745\n",
       "CPI            76902.0     176.961347     41.239967\n",
       "Unemployment   76902.0       6.868733      1.583427\n",
       "Size          115064.0  136497.688921  61106.926438"
      ]
     },
     "execution_count": 17,
     "metadata": {},
     "output_type": "execute_result"
    }
   ],
   "source": [
    "comb_test.describe().T[['count','mean','std']]"
   ]
  },
  {
   "cell_type": "markdown",
   "metadata": {},
   "source": [
    "#### Data Preparation"
   ]
  },
  {
   "cell_type": "markdown",
   "metadata": {},
   "source": [
    "Finding the Numerical and Catagorical variables"
   ]
  },
  {
   "cell_type": "code",
   "execution_count": 18,
   "metadata": {},
   "outputs": [
    {
     "data": {
      "text/plain": [
       "Index(['Store', 'Dept', 'Date', 'IsHoliday_x', 'Temperature', 'Fuel_Price',\n",
       "       'MarkDown1', 'MarkDown2', 'MarkDown3', 'MarkDown4', 'MarkDown5', 'CPI',\n",
       "       'Unemployment', 'IsHoliday_y', 'Type', 'Size'],\n",
       "      dtype='object')"
      ]
     },
     "execution_count": 18,
     "metadata": {},
     "output_type": "execute_result"
    }
   ],
   "source": [
    "comb_test.columns"
   ]
  },
  {
   "cell_type": "code",
   "execution_count": 19,
   "metadata": {},
   "outputs": [
    {
     "data": {
      "text/plain": [
       "True    421570\n",
       "dtype: int64"
      ]
     },
     "execution_count": 19,
     "metadata": {},
     "output_type": "execute_result"
    }
   ],
   "source": [
    "(comb_train.IsHoliday_y == comb_train.IsHoliday_x).value_counts()"
   ]
  },
  {
   "cell_type": "code",
   "execution_count": 20,
   "metadata": {},
   "outputs": [],
   "source": [
    "#Comb Train\n",
    "num_var_comb_train=['Weekly_Sales','Temperature','Fuel_Price','MarkDown1','MarkDown2','MarkDown3','MarkDown4','MarkDown5','CPI','Unemployment','Size']\n",
    "cat_var_comb_train=['IsHoliday_x','Type','Dept']\n",
    "comb_train_num=comb_train[num_var_comb_train]\n",
    "comb_train_cat=comb_train[cat_var_comb_train]\n",
    "#Comb Test\n",
    "num_var_comb_test=['Temperature','Fuel_Price','MarkDown1','MarkDown2','MarkDown3','MarkDown4','MarkDown5','CPI','Unemployment','Size']\n",
    "cat_var_comb_test=['IsHoliday_x','Type','Dept']\n",
    "comb_test_num=comb_test[num_var_comb_test]\n",
    "comb_test_cat=comb_test[cat_var_comb_test]"
   ]
  },
  {
   "cell_type": "markdown",
   "metadata": {},
   "source": [
    "Handling the missing values"
   ]
  },
  {
   "cell_type": "code",
   "execution_count": 21,
   "metadata": {},
   "outputs": [
    {
     "data": {
      "text/plain": [
       "Store           421570\n",
       "Dept            421570\n",
       "Date            421570\n",
       "Weekly_Sales    421570\n",
       "IsHoliday_x     421570\n",
       "Temperature     421570\n",
       "Fuel_Price      421570\n",
       "MarkDown1       150681\n",
       "MarkDown2       111248\n",
       "MarkDown3       137091\n",
       "MarkDown4       134967\n",
       "MarkDown5       151432\n",
       "CPI             421570\n",
       "Unemployment    421570\n",
       "IsHoliday_y     421570\n",
       "Type            421570\n",
       "Size            421570\n",
       "dtype: int64"
      ]
     },
     "execution_count": 21,
     "metadata": {},
     "output_type": "execute_result"
    }
   ],
   "source": [
    "comb_train.count()"
   ]
  },
  {
   "cell_type": "code",
   "execution_count": 22,
   "metadata": {},
   "outputs": [],
   "source": [
    "def outlier_miss_treat(x):\n",
    "    x = x.clip(upper = x.quantile(0.99))\n",
    "    x = x.clip(lower = x.quantile(0.01))\n",
    "    x = x.fillna(0)\n",
    "    return x\n",
    "\n",
    "comb_train_num = comb_train_num.apply(outlier_miss_treat)\n",
    "comb_test_num = comb_test_num.apply(outlier_miss_treat)#imputing the zero for missing markdown"
   ]
  },
  {
   "cell_type": "code",
   "execution_count": 23,
   "metadata": {},
   "outputs": [],
   "source": [
    "def miss_treat_cat(x):\n",
    "    x = x.fillna(x.mode())\n",
    "    return x\n",
    "\n",
    "comb_train_cat = comb_train_cat.apply(miss_treat_cat)\n",
    "comb_test_cat = comb_test_cat.apply(miss_treat_cat)"
   ]
  },
  {
   "cell_type": "markdown",
   "metadata": {},
   "source": [
    "Encoding the catagorical variables"
   ]
  },
  {
   "cell_type": "code",
   "execution_count": 24,
   "metadata": {},
   "outputs": [],
   "source": [
    "def create_dummies(df, colname):\n",
    "    col_dummies = pd.get_dummies(df[colname], prefix = colname)\n",
    "    col_dummies.drop(col_dummies.columns[0], axis = 1, inplace = True)\n",
    "    df = pd.concat([df, col_dummies], axis = 1)\n",
    "    df.drop(colname, axis = 1, inplace = True)\n",
    "    return df"
   ]
  },
  {
   "cell_type": "code",
   "execution_count": 25,
   "metadata": {},
   "outputs": [],
   "source": [
    "for c_feature in comb_train_cat:\n",
    "    comb_train_cat[c_feature]=comb_train_cat[c_feature].astype('category')\n",
    "    comb_train_cat=create_dummies(comb_train_cat,c_feature)\n",
    "for c_feature in comb_test_cat:\n",
    "    comb_test_cat[c_feature]=comb_test_cat[c_feature].astype('category')\n",
    "    comb_test_cat=create_dummies(comb_test_cat,c_feature)"
   ]
  },
  {
   "cell_type": "code",
   "execution_count": 26,
   "metadata": {},
   "outputs": [],
   "source": [
    "comb_test_cat;"
   ]
  },
  {
   "cell_type": "code",
   "execution_count": 27,
   "metadata": {},
   "outputs": [],
   "source": [
    "Train = pd.concat([comb_train_num, comb_train_cat],axis=1)\n",
    "Test = pd.concat([comb_test_num, comb_test_cat], axis=1)"
   ]
  },
  {
   "cell_type": "markdown",
   "metadata": {},
   "source": [
    "Preparing the X and Y"
   ]
  },
  {
   "cell_type": "code",
   "execution_count": 28,
   "metadata": {},
   "outputs": [],
   "source": [
    "X_train = Train[Train.columns.difference(['Weekly_Sales'])]\n",
    "Y_train = Train[['Weekly_Sales']]"
   ]
  },
  {
   "cell_type": "code",
   "execution_count": 29,
   "metadata": {},
   "outputs": [
    {
     "data": {
      "text/plain": [
       "((421570, 93), (421570, 1), (115064, 93))"
      ]
     },
     "execution_count": 29,
     "metadata": {},
     "output_type": "execute_result"
    }
   ],
   "source": [
    "X_train.shape, Y_train.shape, Test.shape"
   ]
  },
  {
   "cell_type": "code",
   "execution_count": 30,
   "metadata": {},
   "outputs": [],
   "source": [
    "X_train;Test;"
   ]
  },
  {
   "cell_type": "markdown",
   "metadata": {},
   "source": [
    "**Exploratory Analysis**"
   ]
  },
  {
   "cell_type": "markdown",
   "metadata": {},
   "source": [
    "Store vs Sales"
   ]
  },
  {
   "cell_type": "code",
   "execution_count": 31,
   "metadata": {},
   "outputs": [],
   "source": [
    "s_s = comb_train.groupby(by=['Store'])\n",
    "s_s = s_s[['Weekly_Sales']].sum().add_prefix('SumOf_') "
   ]
  },
  {
   "cell_type": "code",
   "execution_count": 32,
   "metadata": {},
   "outputs": [
    {
     "data": {
      "text/plain": [
       "<matplotlib.axes._subplots.AxesSubplot at 0xcccbf08>"
      ]
     },
     "execution_count": 32,
     "metadata": {},
     "output_type": "execute_result"
    },
    {
     "data": {
      "image/png": "[encoded data removed]",
      "text/plain": [
       "<Figure size 1080x360 with 1 Axes>"
      ]
     },
     "metadata": {
      "needs_background": "light"
     },
     "output_type": "display_data"
    }
   ],
   "source": [
    "s_s.plot(kind='bar',figsize=(15,5))"
   ]
  },
  {
   "cell_type": "markdown",
   "metadata": {},
   "source": [
    "Dept vs Weekly sales"
   ]
  },
  {
   "cell_type": "code",
   "execution_count": 33,
   "metadata": {},
   "outputs": [],
   "source": [
    "d_s = comb_train.groupby(by=['Dept'])\n",
    "d_s = d_s[['Weekly_Sales']].sum().add_prefix('SumOf_') "
   ]
  },
  {
   "cell_type": "code",
   "execution_count": 34,
   "metadata": {},
   "outputs": [
    {
     "data": {
      "text/plain": [
       "<matplotlib.axes._subplots.AxesSubplot at 0xe5e3208>"
      ]
     },
     "execution_count": 34,
     "metadata": {},
     "output_type": "execute_result"
    },
    {
     "data": {
      "image/png": "[encoded data removed]",
      "text/plain": [
       "<Figure size 1080x360 with 1 Axes>"
      ]
     },
     "metadata": {
      "needs_background": "light"
     },
     "output_type": "display_data"
    }
   ],
   "source": [
    "d_s.plot(kind='bar',figsize=(15,5))"
   ]
  },
  {
   "cell_type": "markdown",
   "metadata": {},
   "source": [
    "Correlation of Sales and Xs"
   ]
  },
  {
   "cell_type": "code",
   "execution_count": 35,
   "metadata": {},
   "outputs": [],
   "source": [
    "comb_train.corr();"
   ]
  },
  {
   "cell_type": "code",
   "execution_count": 36,
   "metadata": {},
   "outputs": [
    {
     "data": {
      "text/plain": [
       "<matplotlib.axes._subplots.AxesSubplot at 0xf72afc8>"
      ]
     },
     "execution_count": 36,
     "metadata": {},
     "output_type": "execute_result"
    },
    {
     "data": {
      "image/png": "[encoded data removed]",
      "text/plain": [
       "<Figure size 432x288 with 2 Axes>"
      ]
     },
     "metadata": {
      "needs_background": "light"
     },
     "output_type": "display_data"
    }
   ],
   "source": [
    "sns.heatmap(comb_train.corr())"
   ]
  },
  {
   "cell_type": "markdown",
   "metadata": {},
   "source": [
    "from the above the heat map it seems there is multicollinearity between the Xs"
   ]
  },
  {
   "cell_type": "code",
   "execution_count": 37,
   "metadata": {},
   "outputs": [
    {
     "data": {
      "text/plain": [
       "Index(['CPI', 'Dept_10', 'Dept_11', 'Dept_12', 'Dept_13', 'Dept_14', 'Dept_16',\n",
       "       'Dept_17', 'Dept_18', 'Dept_19', 'Dept_2', 'Dept_20', 'Dept_21',\n",
       "       'Dept_22', 'Dept_23', 'Dept_24', 'Dept_25', 'Dept_26', 'Dept_27',\n",
       "       'Dept_28', 'Dept_29', 'Dept_3', 'Dept_30', 'Dept_31', 'Dept_32',\n",
       "       'Dept_33', 'Dept_34', 'Dept_35', 'Dept_36', 'Dept_37', 'Dept_38',\n",
       "       'Dept_39', 'Dept_4', 'Dept_40', 'Dept_41', 'Dept_42', 'Dept_43',\n",
       "       'Dept_44', 'Dept_45', 'Dept_46', 'Dept_47', 'Dept_48', 'Dept_49',\n",
       "       'Dept_5', 'Dept_50', 'Dept_51', 'Dept_52', 'Dept_54', 'Dept_55',\n",
       "       'Dept_56', 'Dept_58', 'Dept_59', 'Dept_6', 'Dept_60', 'Dept_65',\n",
       "       'Dept_67', 'Dept_7', 'Dept_71', 'Dept_72', 'Dept_74', 'Dept_77',\n",
       "       'Dept_78', 'Dept_79', 'Dept_8', 'Dept_80', 'Dept_81', 'Dept_82',\n",
       "       'Dept_83', 'Dept_85', 'Dept_87', 'Dept_9', 'Dept_90', 'Dept_91',\n",
       "       'Dept_92', 'Dept_93', 'Dept_94', 'Dept_95', 'Dept_96', 'Dept_97',\n",
       "       'Dept_98', 'Dept_99', 'Fuel_Price', 'IsHoliday_x_True', 'MarkDown1',\n",
       "       'MarkDown2', 'MarkDown3', 'MarkDown4', 'MarkDown5', 'Size',\n",
       "       'Temperature', 'Type_B', 'Type_C', 'Unemployment'],\n",
       "      dtype='object')"
      ]
     },
     "execution_count": 37,
     "metadata": {},
     "output_type": "execute_result"
    }
   ],
   "source": [
    "X_train.columns"
   ]
  },
  {
   "cell_type": "code",
   "execution_count": 38,
   "metadata": {},
   "outputs": [],
   "source": [
    "md = X_train[['MarkDown1','MarkDown2','MarkDown3','MarkDown4','MarkDown5']]\n",
    "md_test = Test[['MarkDown1','MarkDown2','MarkDown3','MarkDown4','MarkDown5']]"
   ]
  },
  {
   "cell_type": "code",
   "execution_count": 39,
   "metadata": {},
   "outputs": [],
   "source": [
    "X_train['Markdown_mean'] = (md.iloc[:,0]+md.iloc[:,1]+md.iloc[:,2]+md.iloc[:,3]+md.iloc[:,4])/5\n",
    "Test['Markdown_mean'] = (md_test.iloc[:,0]+md_test.iloc[:,1]+md_test.iloc[:,2]+md_test.iloc[:,3]+md_test.iloc[:,4])/5"
   ]
  },
  {
   "cell_type": "code",
   "execution_count": 40,
   "metadata": {},
   "outputs": [],
   "source": [
    "X_train.drop(columns=['MarkDown1','MarkDown2','MarkDown3','MarkDown4','MarkDown5'],inplace=True)\n",
    "Test.drop(columns=['MarkDown1','MarkDown2','MarkDown3','MarkDown4','MarkDown5'],inplace=True)"
   ]
  },
  {
   "cell_type": "markdown",
   "metadata": {},
   "source": [
    "Correlation of Sales with the Markdown"
   ]
  },
  {
   "cell_type": "code",
   "execution_count": 41,
   "metadata": {
    "scrolled": true
   },
   "outputs": [
    {
     "data": {
      "text/plain": [
       "Weekly_Sales    0.064186\n",
       "dtype: float64"
      ]
     },
     "execution_count": 41,
     "metadata": {},
     "output_type": "execute_result"
    }
   ],
   "source": [
    "Y_train.corrwith(X_train.Markdown_mean)"
   ]
  },
  {
   "cell_type": "markdown",
   "metadata": {},
   "source": [
    "Checking the Coefficient of variation"
   ]
  },
  {
   "cell_type": "code",
   "execution_count": 42,
   "metadata": {
    "scrolled": true
   },
   "outputs": [
    {
     "data": {
      "text/plain": [
       "0.22868355663381298"
      ]
     },
     "execution_count": 42,
     "metadata": {},
     "output_type": "execute_result"
    }
   ],
   "source": [
    "np.std(X_train.CPI)/np.mean(X_train.CPI)"
   ]
  },
  {
   "cell_type": "code",
   "execution_count": 43,
   "metadata": {},
   "outputs": [
    {
     "data": {
      "text/plain": [
       "0.304405942283764"
      ]
     },
     "execution_count": 43,
     "metadata": {},
     "output_type": "execute_result"
    }
   ],
   "source": [
    "np.std(X_train.Temperature)/np.mean(X_train.Temperature)"
   ]
  },
  {
   "cell_type": "code",
   "execution_count": 44,
   "metadata": {},
   "outputs": [
    {
     "data": {
      "text/plain": [
       "0.23359589146704643"
      ]
     },
     "execution_count": 44,
     "metadata": {},
     "output_type": "execute_result"
    }
   ],
   "source": [
    "np.std(X_train.Unemployment)/np.mean(X_train.Unemployment)"
   ]
  },
  {
   "cell_type": "code",
   "execution_count": 45,
   "metadata": {},
   "outputs": [],
   "source": [
    "Test;"
   ]
  },
  {
   "cell_type": "markdown",
   "metadata": {},
   "source": [
    "#### Feature Reduction"
   ]
  },
  {
   "cell_type": "markdown",
   "metadata": {},
   "source": [
    "Feature Importances using the Random Forest"
   ]
  },
  {
   "cell_type": "code",
   "execution_count": 46,
   "metadata": {},
   "outputs": [],
   "source": [
    "from sklearn.model_selection import GridSearchCV\n",
    "from sklearn.ensemble import RandomForestRegressor"
   ]
  },
  {
   "cell_type": "code",
   "execution_count": 47,
   "metadata": {},
   "outputs": [
    {
     "name": "stdout",
     "output_type": "stream",
     "text": [
      "--- 204.07167220115662 seconds ---\n"
     ]
    }
   ],
   "source": [
    "start_time = time.time()\n",
    "pargrid_ada = {'n_estimators': [40],\n",
    "               'max_depth':[10]}\n",
    "\n",
    "data_rf = GridSearchCV(estimator=RandomForestRegressor(), \n",
    "                        param_grid=pargrid_ada, \n",
    "                        cv=2,n_jobs=-1)\n",
    "data_rf.fit(X_train, Y_train)\n",
    "print(\"--- %s seconds ---\" % (time.time() - start_time))"
   ]
  },
  {
   "cell_type": "code",
   "execution_count": 48,
   "metadata": {},
   "outputs": [
    {
     "data": {
      "text/plain": [
       "{'max_depth': 10, 'n_estimators': 40}"
      ]
     },
     "execution_count": 48,
     "metadata": {},
     "output_type": "execute_result"
    }
   ],
   "source": [
    "data_rf.best_params_"
   ]
  },
  {
   "cell_type": "code",
   "execution_count": 49,
   "metadata": {},
   "outputs": [
    {
     "data": {
      "text/plain": [
       "RandomForestRegressor(bootstrap=True, ccp_alpha=0.0, criterion='mse',\n",
       "                      max_depth=10, max_features='auto', max_leaf_nodes=None,\n",
       "                      max_samples=None, min_impurity_decrease=0.0,\n",
       "                      min_impurity_split=None, min_samples_leaf=1,\n",
       "                      min_samples_split=2, min_weight_fraction_leaf=0.0,\n",
       "                      n_estimators=40, n_jobs=None, oob_score=False,\n",
       "                      random_state=None, verbose=0, warm_start=False)"
      ]
     },
     "execution_count": 49,
     "metadata": {},
     "output_type": "execute_result"
    }
   ],
   "source": [
    "best_rf = RandomForestRegressor(max_depth= 10, n_estimators= 40)\n",
    "best_rf.fit(X_train,Y_train)"
   ]
  },
  {
   "cell_type": "code",
   "execution_count": 50,
   "metadata": {},
   "outputs": [],
   "source": [
    "feat_imp = pd.concat([pd.Series(X_train.columns),pd.Series(best_rf.feature_importances_)],axis=1).sort_values(by=1,ascending=False) #.to_excel('rf_ft_imp.xlsx')"
   ]
  },
  {
   "cell_type": "code",
   "execution_count": 51,
   "metadata": {},
   "outputs": [],
   "source": [
    "feat_imp = list(feat_imp[feat_imp[1]>0][0])"
   ]
  },
  {
   "cell_type": "code",
   "execution_count": 52,
   "metadata": {},
   "outputs": [
    {
     "data": {
      "text/plain": [
       "((421570, 20), (421570, 1), (115064, 20))"
      ]
     },
     "execution_count": 52,
     "metadata": {},
     "output_type": "execute_result"
    }
   ],
   "source": [
    "X_train_all = X_train.copy()\n",
    "X_final = X_train_all[feat_imp]\n",
    "Test_final = Test[feat_imp]\n",
    "X_final.shape,Y_train.shape,Test_final.shape"
   ]
  },
  {
   "cell_type": "markdown",
   "metadata": {},
   "source": [
    " --------------------------------------------------- End of Data Prep for Regression ---------------------------------------------------------------"
   ]
  },
  {
   "cell_type": "markdown",
   "metadata": {},
   "source": [
    "Split the train data into Train and Test"
   ]
  },
  {
   "cell_type": "code",
   "execution_count": 53,
   "metadata": {},
   "outputs": [],
   "source": [
    "from sklearn.model_selection import train_test_split\n",
    "X_train, X_test, y_train, y_test = train_test_split(X_final, Y_train, test_size = 0.6, random_state = 123)"
   ]
  },
  {
   "cell_type": "markdown",
   "metadata": {},
   "source": [
    "### Regression Model Implementation"
   ]
  },
  {
   "cell_type": "markdown",
   "metadata": {},
   "source": [
    "We use Random Forest and XGBoost models and choose the one which gives better accuracy"
   ]
  },
  {
   "cell_type": "markdown",
   "metadata": {},
   "source": [
    "**Random Forest**"
   ]
  },
  {
   "cell_type": "code",
   "execution_count": 54,
   "metadata": {},
   "outputs": [
    {
     "name": "stdout",
     "output_type": "stream",
     "text": [
      "--- 136.88682913780212 seconds ---\n"
     ]
    }
   ],
   "source": [
    "start_time = time.time()\n",
    "pargrid_ada = {'n_estimators': [100],\n",
    "               'max_depth':[10]}\n",
    "\n",
    "rf = GridSearchCV(estimator=RandomForestRegressor(), \n",
    "                        param_grid=pargrid_ada, \n",
    "                        cv=3,n_jobs=-1)\n",
    "rf.fit(X_train, y_train)\n",
    "print(\"--- %s seconds ---\" % (time.time() - start_time))"
   ]
  },
  {
   "cell_type": "code",
   "execution_count": 55,
   "metadata": {},
   "outputs": [
    {
     "data": {
      "text/plain": [
       "{'max_depth': 10, 'n_estimators': 100}"
      ]
     },
     "execution_count": 55,
     "metadata": {},
     "output_type": "execute_result"
    }
   ],
   "source": [
    "rf.best_params_"
   ]
  },
  {
   "cell_type": "code",
   "execution_count": 56,
   "metadata": {},
   "outputs": [],
   "source": [
    "y_pred_rf_test = rf.predict(X_test)\n",
    "y_pred_rf_train = rf.predict(X_train)"
   ]
  },
  {
   "cell_type": "code",
   "execution_count": 57,
   "metadata": {},
   "outputs": [
    {
     "name": "stdout",
     "output_type": "stream",
     "text": [
      "Accuracy: 67 % \n",
      "\n"
     ]
    }
   ],
   "source": [
    "accuracy_rf= round(rf.score(X_train, y_train) * 100, 2)\n",
    "print (\"Accuracy: %i %% \\n\"%accuracy_rf)"
   ]
  },
  {
   "cell_type": "markdown",
   "metadata": {},
   "source": [
    "**XGBoost**"
   ]
  },
  {
   "cell_type": "code",
   "execution_count": 58,
   "metadata": {},
   "outputs": [],
   "source": [
    "import xgboost"
   ]
  },
  {
   "cell_type": "code",
   "execution_count": 59,
   "metadata": {},
   "outputs": [
    {
     "name": "stdout",
     "output_type": "stream",
     "text": [
      "[11:12:33] WARNING: src/objective/regression_obj.cu:152: reg:linear is now deprecated in favor of reg:squarederror.\n",
      "--- 102.65887188911438 seconds ---\n"
     ]
    }
   ],
   "source": [
    "start_time = time.time()\n",
    "pargrid_xg = {'n_estimators': [100],\n",
    "               'max_depth':[10]}\n",
    "\n",
    "gscv_xg = GridSearchCV(estimator=xgboost.XGBRegressor(), \n",
    "                        param_grid=pargrid_xg, \n",
    "                        cv=3,n_jobs=-1)\n",
    "\n",
    "data_xg=gscv_xg.fit(X_train, y_train)\n",
    "print(\"--- %s seconds ---\" % (time.time() - start_time))"
   ]
  },
  {
   "cell_type": "code",
   "execution_count": 60,
   "metadata": {},
   "outputs": [],
   "source": [
    "y_pred_xg_test = data_xg.predict(X_test)\n",
    "y_pred_xg_train = data_xg.predict(X_train)"
   ]
  },
  {
   "cell_type": "code",
   "execution_count": 61,
   "metadata": {},
   "outputs": [
    {
     "name": "stdout",
     "output_type": "stream",
     "text": [
      "Accuracy: 76 % \n",
      "\n"
     ]
    }
   ],
   "source": [
    "accuracy_xg = round(data_xg.score(X_train, y_train) * 100, 2)\n",
    "print (\"Accuracy: %i %% \\n\"%accuracy_xg)"
   ]
  },
  {
   "cell_type": "code",
   "execution_count": 62,
   "metadata": {},
   "outputs": [
    {
     "name": "stdout",
     "output_type": "stream",
     "text": [
      "--- 601.0953805446625 seconds ---\n"
     ]
    }
   ],
   "source": [
    "print(\"--- %s seconds ---\" % (time.time() - start_time_1))"
   ]
  },
  {
   "cell_type": "markdown",
   "metadata": {},
   "source": [
    "**Model Evaluation**"
   ]
  },
  {
   "cell_type": "code",
   "execution_count": 69,
   "metadata": {},
   "outputs": [],
   "source": [
    "def mod_eva(t1, t3):\n",
    "    #Mean Absolute Percentage Error \n",
    "    print(\"MAPE values for actual training :\")\n",
    "    MAPE_train = np.mean(np.abs(t3 - t1)/t3)\n",
    "    print(MAPE_train)\n",
    "    \n",
    "    #Root Mean Squared error\n",
    "    print(\"\\nRMSE values for actual training :\")\n",
    "    RMSE_train = np.sqrt(mean_squared_error(t3,t1))\n",
    "    print(RMSE_train)"
   ]
  },
  {
   "cell_type": "code",
   "execution_count": 78,
   "metadata": {},
   "outputs": [],
   "source": [
    "t3 = y_train.reset_index()"
   ]
  },
  {
   "cell_type": "markdown",
   "metadata": {},
   "source": [
    "---"
   ]
  },
  {
   "cell_type": "markdown",
   "metadata": {},
   "source": [
    "Since the accuracy of the XGBoost model is better than the Random Forest model. We will choose the XGBoost."
   ]
  },
  {
   "cell_type": "markdown",
   "metadata": {},
   "source": [
    "**Forecasting using XGBoost**"
   ]
  },
  {
   "cell_type": "code",
   "execution_count": 63,
   "metadata": {},
   "outputs": [],
   "source": [
    "result_reg_forecast = pd.DataFrame({\"Store_Dept_Date\": test.Store.astype(str)+'_'+test.Dept.astype(str)+'_'+test.Date.astype(str),\n",
    "              \"Weekly_Sales\": data_xg.predict(Test_final) })"
   ]
  },
  {
   "cell_type": "code",
   "execution_count": 65,
   "metadata": {},
   "outputs": [
    {
     "data": {
      "text/html": [
       "<div>\n",
       "<style scoped>\n",
       "    .dataframe tbody tr th:only-of-type {\n",
       "        vertical-align: middle;\n",
       "    }\n",
       "\n",
       "    .dataframe tbody tr th {\n",
       "        vertical-align: top;\n",
       "    }\n",
       "\n",
       "    .dataframe thead th {\n",
       "        text-align: right;\n",
       "    }\n",
       "</style>\n",
       "<table border=\"1\" class=\"dataframe\">\n",
       "  <thead>\n",
       "    <tr style=\"text-align: right;\">\n",
       "      <th></th>\n",
       "      <th>Store_Dept_Date</th>\n",
       "      <th>Weekly_Sales</th>\n",
       "    </tr>\n",
       "  </thead>\n",
       "  <tbody>\n",
       "    <tr>\n",
       "      <td>0</td>\n",
       "      <td>1_1_2012-11-02</td>\n",
       "      <td>11756.886719</td>\n",
       "    </tr>\n",
       "    <tr>\n",
       "      <td>1</td>\n",
       "      <td>1_1_2012-11-09</td>\n",
       "      <td>43366.390625</td>\n",
       "    </tr>\n",
       "    <tr>\n",
       "      <td>2</td>\n",
       "      <td>1_1_2012-11-16</td>\n",
       "      <td>11756.886719</td>\n",
       "    </tr>\n",
       "    <tr>\n",
       "      <td>3</td>\n",
       "      <td>1_1_2012-11-23</td>\n",
       "      <td>11756.886719</td>\n",
       "    </tr>\n",
       "    <tr>\n",
       "      <td>4</td>\n",
       "      <td>1_1_2012-11-30</td>\n",
       "      <td>11756.886719</td>\n",
       "    </tr>\n",
       "  </tbody>\n",
       "</table>\n",
       "</div>"
      ],
      "text/plain": [
       "  Store_Dept_Date  Weekly_Sales\n",
       "0  1_1_2012-11-02  11756.886719\n",
       "1  1_1_2012-11-09  43366.390625\n",
       "2  1_1_2012-11-16  11756.886719\n",
       "3  1_1_2012-11-23  11756.886719\n",
       "4  1_1_2012-11-30  11756.886719"
      ]
     },
     "execution_count": 65,
     "metadata": {},
     "output_type": "execute_result"
    }
   ],
   "source": [
    "result_reg_forecast.head()"
   ]
  },
  {
   "cell_type": "code",
   "execution_count": 66,
   "metadata": {},
   "outputs": [
    {
     "data": {
      "text/html": [
       "<div>\n",
       "<style scoped>\n",
       "    .dataframe tbody tr th:only-of-type {\n",
       "        vertical-align: middle;\n",
       "    }\n",
       "\n",
       "    .dataframe tbody tr th {\n",
       "        vertical-align: top;\n",
       "    }\n",
       "\n",
       "    .dataframe thead th {\n",
       "        text-align: right;\n",
       "    }\n",
       "</style>\n",
       "<table border=\"1\" class=\"dataframe\">\n",
       "  <thead>\n",
       "    <tr style=\"text-align: right;\">\n",
       "      <th></th>\n",
       "      <th>Store_Dept_Date</th>\n",
       "      <th>Weekly_Sales</th>\n",
       "    </tr>\n",
       "  </thead>\n",
       "  <tbody>\n",
       "    <tr>\n",
       "      <td>115059</td>\n",
       "      <td>45_98_2013-06-28</td>\n",
       "      <td>19288.878906</td>\n",
       "    </tr>\n",
       "    <tr>\n",
       "      <td>115060</td>\n",
       "      <td>45_98_2013-07-05</td>\n",
       "      <td>5745.884277</td>\n",
       "    </tr>\n",
       "    <tr>\n",
       "      <td>115061</td>\n",
       "      <td>45_98_2013-07-12</td>\n",
       "      <td>68619.367188</td>\n",
       "    </tr>\n",
       "    <tr>\n",
       "      <td>115062</td>\n",
       "      <td>45_98_2013-07-19</td>\n",
       "      <td>19288.878906</td>\n",
       "    </tr>\n",
       "    <tr>\n",
       "      <td>115063</td>\n",
       "      <td>45_98_2013-07-26</td>\n",
       "      <td>19288.878906</td>\n",
       "    </tr>\n",
       "  </tbody>\n",
       "</table>\n",
       "</div>"
      ],
      "text/plain": [
       "         Store_Dept_Date  Weekly_Sales\n",
       "115059  45_98_2013-06-28  19288.878906\n",
       "115060  45_98_2013-07-05   5745.884277\n",
       "115061  45_98_2013-07-12  68619.367188\n",
       "115062  45_98_2013-07-19  19288.878906\n",
       "115063  45_98_2013-07-26  19288.878906"
      ]
     },
     "execution_count": 66,
     "metadata": {},
     "output_type": "execute_result"
    }
   ],
   "source": [
    "result_reg_forecast.tail()"
   ]
  },
  {
   "cell_type": "code",
   "execution_count": null,
   "metadata": {},
   "outputs": [],
   "source": [
    "#result_reg_forecast.to_excel('Result_Regression_Forecast.xlsx')"
   ]
  },
  {
   "cell_type": "markdown",
   "metadata": {},
   "source": [
    "### -------------------------------------------- End of Regression Forecasting ----------------------------------"
   ]
  },
  {
   "cell_type": "markdown",
   "metadata": {},
   "source": [
    "## Part II - ARIMA model using auto arima"
   ]
  },
  {
   "cell_type": "code",
   "execution_count": 86,
   "metadata": {
    "scrolled": true
   },
   "outputs": [
    {
     "data": {
      "text/plain": [
       "Index(['Store', 'Dept', 'Date', 'Weekly_Sales', 'IsHoliday_x', 'Temperature',\n",
       "       'Fuel_Price', 'MarkDown1', 'MarkDown2', 'MarkDown3', 'MarkDown4',\n",
       "       'MarkDown5', 'CPI', 'Unemployment', 'IsHoliday_y', 'Type', 'Size'],\n",
       "      dtype='object')"
      ]
     },
     "execution_count": 86,
     "metadata": {},
     "output_type": "execute_result"
    }
   ],
   "source": [
    "comb_train.columns"
   ]
  },
  {
   "cell_type": "markdown",
   "metadata": {},
   "source": [
    "**Preparing the Exogenous variable Markdown**"
   ]
  },
  {
   "cell_type": "markdown",
   "metadata": {},
   "source": [
    "for train"
   ]
  },
  {
   "cell_type": "code",
   "execution_count": 87,
   "metadata": {},
   "outputs": [],
   "source": [
    "comb_train_ar = comb_train[['Date','Store','Dept','Weekly_Sales','MarkDown1', 'MarkDown2', 'MarkDown3', 'MarkDown4','MarkDown5']]"
   ]
  },
  {
   "cell_type": "code",
   "execution_count": 88,
   "metadata": {},
   "outputs": [],
   "source": [
    "md = comb_train_ar[['MarkDown1','MarkDown2','MarkDown3','MarkDown4','MarkDown5']]\n",
    "comb_train_ar['Markdown_mean'] = (md.iloc[:,0]+md.iloc[:,1]+md.iloc[:,2]+md.iloc[:,3]+md.iloc[:,4])/5"
   ]
  },
  {
   "cell_type": "code",
   "execution_count": 89,
   "metadata": {},
   "outputs": [],
   "source": [
    "comb_train_ar.drop(columns=['MarkDown1','MarkDown2','MarkDown3','MarkDown4','MarkDown5'],inplace=True)"
   ]
  },
  {
   "cell_type": "code",
   "execution_count": 90,
   "metadata": {},
   "outputs": [],
   "source": [
    "comb_train_ar.fillna(0,inplace=True)"
   ]
  },
  {
   "cell_type": "code",
   "execution_count": 91,
   "metadata": {},
   "outputs": [],
   "source": [
    "comb_train_ar.Markdown_mean.value_counts();"
   ]
  },
  {
   "cell_type": "code",
   "execution_count": 92,
   "metadata": {},
   "outputs": [],
   "source": [
    "# Binning \n",
    "comb_train_ar['Markdown_bin'] = pd.qcut(comb_train_ar.Markdown_mean,10, labels=False,duplicates='drop')"
   ]
  },
  {
   "cell_type": "code",
   "execution_count": 93,
   "metadata": {},
   "outputs": [],
   "source": [
    "comb_train_ar.drop(columns=['Markdown_mean'],inplace=True)"
   ]
  },
  {
   "cell_type": "code",
   "execution_count": 94,
   "metadata": {
    "scrolled": true
   },
   "outputs": [
    {
     "data": {
      "text/html": [
       "<div>\n",
       "<style scoped>\n",
       "    .dataframe tbody tr th:only-of-type {\n",
       "        vertical-align: middle;\n",
       "    }\n",
       "\n",
       "    .dataframe tbody tr th {\n",
       "        vertical-align: top;\n",
       "    }\n",
       "\n",
       "    .dataframe thead th {\n",
       "        text-align: right;\n",
       "    }\n",
       "</style>\n",
       "<table border=\"1\" class=\"dataframe\">\n",
       "  <thead>\n",
       "    <tr style=\"text-align: right;\">\n",
       "      <th></th>\n",
       "      <th>Date</th>\n",
       "      <th>Store</th>\n",
       "      <th>Dept</th>\n",
       "      <th>Weekly_Sales</th>\n",
       "      <th>Markdown_bin</th>\n",
       "    </tr>\n",
       "  </thead>\n",
       "  <tbody>\n",
       "    <tr>\n",
       "      <td>0</td>\n",
       "      <td>2010-02-05</td>\n",
       "      <td>1</td>\n",
       "      <td>1</td>\n",
       "      <td>24924.50</td>\n",
       "      <td>0</td>\n",
       "    </tr>\n",
       "    <tr>\n",
       "      <td>1</td>\n",
       "      <td>2010-02-05</td>\n",
       "      <td>1</td>\n",
       "      <td>2</td>\n",
       "      <td>50605.27</td>\n",
       "      <td>0</td>\n",
       "    </tr>\n",
       "    <tr>\n",
       "      <td>2</td>\n",
       "      <td>2010-02-05</td>\n",
       "      <td>1</td>\n",
       "      <td>3</td>\n",
       "      <td>13740.12</td>\n",
       "      <td>0</td>\n",
       "    </tr>\n",
       "  </tbody>\n",
       "</table>\n",
       "</div>"
      ],
      "text/plain": [
       "        Date  Store  Dept  Weekly_Sales  Markdown_bin\n",
       "0 2010-02-05      1     1      24924.50             0\n",
       "1 2010-02-05      1     2      50605.27             0\n",
       "2 2010-02-05      1     3      13740.12             0"
      ]
     },
     "execution_count": 94,
     "metadata": {},
     "output_type": "execute_result"
    }
   ],
   "source": [
    "comb_train_ar.head(3)"
   ]
  },
  {
   "cell_type": "markdown",
   "metadata": {},
   "source": [
    "for test"
   ]
  },
  {
   "cell_type": "code",
   "execution_count": 95,
   "metadata": {},
   "outputs": [],
   "source": [
    "comb_test_ar = comb_test[['Date','Store','Dept','MarkDown1', 'MarkDown2', 'MarkDown3', 'MarkDown4','MarkDown5']]"
   ]
  },
  {
   "cell_type": "code",
   "execution_count": 96,
   "metadata": {},
   "outputs": [],
   "source": [
    "md = comb_test_ar[['MarkDown1','MarkDown2','MarkDown3','MarkDown4','MarkDown5']]\n",
    "comb_test_ar['Markdown_mean'] = (md.iloc[:,0]+md.iloc[:,1]+md.iloc[:,2]+md.iloc[:,3]+md.iloc[:,4])/5"
   ]
  },
  {
   "cell_type": "code",
   "execution_count": 97,
   "metadata": {},
   "outputs": [],
   "source": [
    "comb_test_ar.drop(columns=['MarkDown1','MarkDown2','MarkDown3','MarkDown4','MarkDown5'],inplace=True)"
   ]
  },
  {
   "cell_type": "code",
   "execution_count": 98,
   "metadata": {},
   "outputs": [],
   "source": [
    "comb_test_ar.fillna(0,inplace=True)"
   ]
  },
  {
   "cell_type": "code",
   "execution_count": 99,
   "metadata": {},
   "outputs": [],
   "source": [
    "comb_test_ar.Markdown_mean.value_counts();"
   ]
  },
  {
   "cell_type": "code",
   "execution_count": 100,
   "metadata": {},
   "outputs": [],
   "source": [
    "# Binning \n",
    "comb_test_ar['Markdown_bin'] = pd.qcut(comb_test_ar.Markdown_mean,10, labels=False,duplicates='drop')"
   ]
  },
  {
   "cell_type": "code",
   "execution_count": 101,
   "metadata": {},
   "outputs": [],
   "source": [
    "comb_test_ar.drop(columns=['Markdown_mean'],inplace=True)"
   ]
  },
  {
   "cell_type": "code",
   "execution_count": 102,
   "metadata": {
    "scrolled": true
   },
   "outputs": [
    {
     "data": {
      "text/html": [
       "<div>\n",
       "<style scoped>\n",
       "    .dataframe tbody tr th:only-of-type {\n",
       "        vertical-align: middle;\n",
       "    }\n",
       "\n",
       "    .dataframe tbody tr th {\n",
       "        vertical-align: top;\n",
       "    }\n",
       "\n",
       "    .dataframe thead th {\n",
       "        text-align: right;\n",
       "    }\n",
       "</style>\n",
       "<table border=\"1\" class=\"dataframe\">\n",
       "  <thead>\n",
       "    <tr style=\"text-align: right;\">\n",
       "      <th></th>\n",
       "      <th>Date</th>\n",
       "      <th>Store</th>\n",
       "      <th>Dept</th>\n",
       "      <th>Markdown_bin</th>\n",
       "    </tr>\n",
       "  </thead>\n",
       "  <tbody>\n",
       "    <tr>\n",
       "      <td>0</td>\n",
       "      <td>2012-11-02</td>\n",
       "      <td>1</td>\n",
       "      <td>1</td>\n",
       "      <td>4</td>\n",
       "    </tr>\n",
       "    <tr>\n",
       "      <td>1</td>\n",
       "      <td>2012-11-02</td>\n",
       "      <td>1</td>\n",
       "      <td>2</td>\n",
       "      <td>4</td>\n",
       "    </tr>\n",
       "    <tr>\n",
       "      <td>2</td>\n",
       "      <td>2012-11-02</td>\n",
       "      <td>1</td>\n",
       "      <td>3</td>\n",
       "      <td>4</td>\n",
       "    </tr>\n",
       "  </tbody>\n",
       "</table>\n",
       "</div>"
      ],
      "text/plain": [
       "        Date  Store  Dept  Markdown_bin\n",
       "0 2012-11-02      1     1             4\n",
       "1 2012-11-02      1     2             4\n",
       "2 2012-11-02      1     3             4"
      ]
     },
     "execution_count": 102,
     "metadata": {},
     "output_type": "execute_result"
    }
   ],
   "source": [
    "comb_test_ar.head(3)"
   ]
  },
  {
   "cell_type": "code",
   "execution_count": 103,
   "metadata": {},
   "outputs": [
    {
     "data": {
      "text/plain": [
       "65.56353276353276"
      ]
     },
     "execution_count": 103,
     "metadata": {},
     "output_type": "execute_result"
    }
   ],
   "source": [
    "comb_test_ar.shape[0]/(39*45)"
   ]
  },
  {
   "cell_type": "markdown",
   "metadata": {},
   "source": [
    "**Preparing the separate array for each Store**"
   ]
  },
  {
   "cell_type": "markdown",
   "metadata": {},
   "source": [
    "for train"
   ]
  },
  {
   "cell_type": "code",
   "execution_count": 104,
   "metadata": {},
   "outputs": [],
   "source": [
    "comb_train_ar = comb_train_ar.sort_values(by=['Store','Dept'])"
   ]
  },
  {
   "cell_type": "code",
   "execution_count": 105,
   "metadata": {},
   "outputs": [],
   "source": [
    "S = [None] * len(comb_train_ar.Store.unique())\n",
    "for i in comb_train_ar.Store.unique():\n",
    "    S[i-1] = comb_train_ar[comb_train_ar.Store == i]"
   ]
  },
  {
   "cell_type": "markdown",
   "metadata": {},
   "source": [
    "for test"
   ]
  },
  {
   "cell_type": "code",
   "execution_count": 106,
   "metadata": {},
   "outputs": [],
   "source": [
    "comb_test_ar = comb_test_ar.sort_values(by=['Store','Dept'])"
   ]
  },
  {
   "cell_type": "code",
   "execution_count": 107,
   "metadata": {},
   "outputs": [],
   "source": [
    "S_test = [None] * len(comb_test_ar.Store.unique())\n",
    "for i in comb_test_ar.Store.unique():\n",
    "    S_test[i-1] = comb_test_ar[comb_test_ar.Store == i]"
   ]
  },
  {
   "cell_type": "markdown",
   "metadata": {},
   "source": [
    "**Preparing the separate array of each Store with each Dept**"
   ]
  },
  {
   "cell_type": "markdown",
   "metadata": {},
   "source": [
    "for train"
   ]
  },
  {
   "cell_type": "code",
   "execution_count": 108,
   "metadata": {},
   "outputs": [],
   "source": [
    "D=[None]*len(S)\n",
    "for i in range(0,len(D)):\n",
    "        D[i]=([None] * 99) #dept ranges till 99"
   ]
  },
  {
   "cell_type": "code",
   "execution_count": 109,
   "metadata": {},
   "outputs": [],
   "source": [
    "for i in range(0,len(S)):\n",
    "    for j in range(0,len(D[i])+1):\n",
    "        if j!=99:\n",
    "            D[i][j] = S[i][S[i].Dept==j+1]"
   ]
  },
  {
   "cell_type": "markdown",
   "metadata": {},
   "source": [
    "for test"
   ]
  },
  {
   "cell_type": "code",
   "execution_count": 110,
   "metadata": {},
   "outputs": [],
   "source": [
    "D_test=[None]*len(S_test)\n",
    "for i in range(0,len(D_test)):\n",
    "        D_test[i]=([None] * 99) #Dept ranges till 99"
   ]
  },
  {
   "cell_type": "code",
   "execution_count": 111,
   "metadata": {},
   "outputs": [],
   "source": [
    "for i in range(0,len(S_test)):\n",
    "    for j in range(0,len(D_test[i])+1):\n",
    "        if j!=99:\n",
    "            D_test[i][j] = S_test[i][S_test[i].Dept==j+1]"
   ]
  },
  {
   "cell_type": "code",
   "execution_count": 112,
   "metadata": {},
   "outputs": [
    {
     "name": "stdout",
     "output_type": "stream",
     "text": [
      "(143, 5) (39, 4)\n"
     ]
    }
   ],
   "source": [
    "print(D[0][0].shape, D_test[0][0].shape)"
   ]
  },
  {
   "cell_type": "code",
   "execution_count": 113,
   "metadata": {},
   "outputs": [
    {
     "data": {
      "text/html": [
       "<div>\n",
       "<style scoped>\n",
       "    .dataframe tbody tr th:only-of-type {\n",
       "        vertical-align: middle;\n",
       "    }\n",
       "\n",
       "    .dataframe tbody tr th {\n",
       "        vertical-align: top;\n",
       "    }\n",
       "\n",
       "    .dataframe thead th {\n",
       "        text-align: right;\n",
       "    }\n",
       "</style>\n",
       "<table border=\"1\" class=\"dataframe\">\n",
       "  <thead>\n",
       "    <tr style=\"text-align: right;\">\n",
       "      <th></th>\n",
       "      <th>Date</th>\n",
       "      <th>Store</th>\n",
       "      <th>Dept</th>\n",
       "      <th>Weekly_Sales</th>\n",
       "      <th>Markdown_bin</th>\n",
       "    </tr>\n",
       "  </thead>\n",
       "  <tbody>\n",
       "    <tr>\n",
       "      <td>0</td>\n",
       "      <td>2010-02-05</td>\n",
       "      <td>1</td>\n",
       "      <td>1</td>\n",
       "      <td>24924.50</td>\n",
       "      <td>0</td>\n",
       "    </tr>\n",
       "    <tr>\n",
       "      <td>73</td>\n",
       "      <td>2010-02-12</td>\n",
       "      <td>1</td>\n",
       "      <td>1</td>\n",
       "      <td>46039.49</td>\n",
       "      <td>0</td>\n",
       "    </tr>\n",
       "    <tr>\n",
       "      <td>145</td>\n",
       "      <td>2010-02-19</td>\n",
       "      <td>1</td>\n",
       "      <td>1</td>\n",
       "      <td>41595.55</td>\n",
       "      <td>0</td>\n",
       "    </tr>\n",
       "  </tbody>\n",
       "</table>\n",
       "</div>"
      ],
      "text/plain": [
       "          Date  Store  Dept  Weekly_Sales  Markdown_bin\n",
       "0   2010-02-05      1     1      24924.50             0\n",
       "73  2010-02-12      1     1      46039.49             0\n",
       "145 2010-02-19      1     1      41595.55             0"
      ]
     },
     "execution_count": 113,
     "metadata": {},
     "output_type": "execute_result"
    }
   ],
   "source": [
    "D[0][0].head(3)"
   ]
  },
  {
   "cell_type": "code",
   "execution_count": 114,
   "metadata": {},
   "outputs": [
    {
     "data": {
      "text/html": [
       "<div>\n",
       "<style scoped>\n",
       "    .dataframe tbody tr th:only-of-type {\n",
       "        vertical-align: middle;\n",
       "    }\n",
       "\n",
       "    .dataframe tbody tr th {\n",
       "        vertical-align: top;\n",
       "    }\n",
       "\n",
       "    .dataframe thead th {\n",
       "        text-align: right;\n",
       "    }\n",
       "</style>\n",
       "<table border=\"1\" class=\"dataframe\">\n",
       "  <thead>\n",
       "    <tr style=\"text-align: right;\">\n",
       "      <th></th>\n",
       "      <th>Date</th>\n",
       "      <th>Store</th>\n",
       "      <th>Dept</th>\n",
       "      <th>Markdown_bin</th>\n",
       "    </tr>\n",
       "  </thead>\n",
       "  <tbody>\n",
       "    <tr>\n",
       "      <td>0</td>\n",
       "      <td>2012-11-02</td>\n",
       "      <td>1</td>\n",
       "      <td>1</td>\n",
       "      <td>4</td>\n",
       "    </tr>\n",
       "    <tr>\n",
       "      <td>71</td>\n",
       "      <td>2012-11-09</td>\n",
       "      <td>1</td>\n",
       "      <td>1</td>\n",
       "      <td>5</td>\n",
       "    </tr>\n",
       "    <tr>\n",
       "      <td>142</td>\n",
       "      <td>2012-11-16</td>\n",
       "      <td>1</td>\n",
       "      <td>1</td>\n",
       "      <td>4</td>\n",
       "    </tr>\n",
       "  </tbody>\n",
       "</table>\n",
       "</div>"
      ],
      "text/plain": [
       "          Date  Store  Dept  Markdown_bin\n",
       "0   2012-11-02      1     1             4\n",
       "71  2012-11-09      1     1             5\n",
       "142 2012-11-16      1     1             4"
      ]
     },
     "execution_count": 114,
     "metadata": {},
     "output_type": "execute_result"
    }
   ],
   "source": [
    "D_test[0][0].head(3)"
   ]
  },
  {
   "cell_type": "markdown",
   "metadata": {},
   "source": [
    "**Preparing the array Train and Test for every Dept of each Store** "
   ]
  },
  {
   "cell_type": "markdown",
   "metadata": {},
   "source": [
    "(Used for evaluating)"
   ]
  },
  {
   "cell_type": "code",
   "execution_count": 115,
   "metadata": {},
   "outputs": [
    {
     "data": {
      "text/plain": [
       "(Timestamp('2010-02-05 00:00:00'), Timestamp('2012-10-26 00:00:00'))"
      ]
     },
     "execution_count": 115,
     "metadata": {},
     "output_type": "execute_result"
    }
   ],
   "source": [
    "np.min(D[0][0]['Date']),np.max(D[0][0]['Date'])  #Date range"
   ]
  },
  {
   "cell_type": "code",
   "execution_count": 116,
   "metadata": {},
   "outputs": [],
   "source": [
    "train_data=[None]*len(S)\n",
    "for i in range(0,len(D)):\n",
    "        train_data[i]=([None] * 99)\n",
    "test_data=[None]*len(S)\n",
    "for i in range(0,len(D)):\n",
    "        test_data[i]=([None] * 99)"
   ]
  },
  {
   "cell_type": "code",
   "execution_count": 117,
   "metadata": {},
   "outputs": [],
   "source": [
    "for i in range(0,len(D)):\n",
    "    for j in range(0,99):\n",
    "        train_data_size = math.floor(len(D[i][j])*0.7)\n",
    "        test_data_size = math.ceil(len(D[i][j])*0.3)\n",
    "        data = D[i][j][['Date','Weekly_Sales']]\n",
    "        data = data.set_index(data.Date)[['Weekly_Sales']]\n",
    "        train_data[i][j] = data.head(train_data_size)\n",
    "        test_data[i][j]  = data.tail(test_data_size)"
   ]
  },
  {
   "cell_type": "code",
   "execution_count": 118,
   "metadata": {},
   "outputs": [
    {
     "data": {
      "text/plain": [
       "((100, 1), (43, 1))"
      ]
     },
     "execution_count": 118,
     "metadata": {},
     "output_type": "execute_result"
    }
   ],
   "source": [
    "train_data[0][0].shape,test_data[0][0].shape"
   ]
  },
  {
   "cell_type": "code",
   "execution_count": 119,
   "metadata": {},
   "outputs": [
    {
     "data": {
      "text/html": [
       "<div>\n",
       "<style scoped>\n",
       "    .dataframe tbody tr th:only-of-type {\n",
       "        vertical-align: middle;\n",
       "    }\n",
       "\n",
       "    .dataframe tbody tr th {\n",
       "        vertical-align: top;\n",
       "    }\n",
       "\n",
       "    .dataframe thead th {\n",
       "        text-align: right;\n",
       "    }\n",
       "</style>\n",
       "<table border=\"1\" class=\"dataframe\">\n",
       "  <thead>\n",
       "    <tr style=\"text-align: right;\">\n",
       "      <th></th>\n",
       "      <th>Weekly_Sales</th>\n",
       "    </tr>\n",
       "    <tr>\n",
       "      <th>Date</th>\n",
       "      <th></th>\n",
       "    </tr>\n",
       "  </thead>\n",
       "  <tbody>\n",
       "    <tr>\n",
       "      <td>2011-12-30</td>\n",
       "      <td>23350.88</td>\n",
       "    </tr>\n",
       "  </tbody>\n",
       "</table>\n",
       "</div>"
      ],
      "text/plain": [
       "            Weekly_Sales\n",
       "Date                    \n",
       "2011-12-30      23350.88"
      ]
     },
     "execution_count": 119,
     "metadata": {},
     "output_type": "execute_result"
    }
   ],
   "source": [
    "train_data[0][0].tail(1)"
   ]
  },
  {
   "cell_type": "code",
   "execution_count": 120,
   "metadata": {},
   "outputs": [
    {
     "data": {
      "text/html": [
       "<div>\n",
       "<style scoped>\n",
       "    .dataframe tbody tr th:only-of-type {\n",
       "        vertical-align: middle;\n",
       "    }\n",
       "\n",
       "    .dataframe tbody tr th {\n",
       "        vertical-align: top;\n",
       "    }\n",
       "\n",
       "    .dataframe thead th {\n",
       "        text-align: right;\n",
       "    }\n",
       "</style>\n",
       "<table border=\"1\" class=\"dataframe\">\n",
       "  <thead>\n",
       "    <tr style=\"text-align: right;\">\n",
       "      <th></th>\n",
       "      <th>Weekly_Sales</th>\n",
       "    </tr>\n",
       "    <tr>\n",
       "      <th>Date</th>\n",
       "      <th></th>\n",
       "    </tr>\n",
       "  </thead>\n",
       "  <tbody>\n",
       "    <tr>\n",
       "      <td>2012-01-06</td>\n",
       "      <td>16567.69</td>\n",
       "    </tr>\n",
       "  </tbody>\n",
       "</table>\n",
       "</div>"
      ],
      "text/plain": [
       "            Weekly_Sales\n",
       "Date                    \n",
       "2012-01-06      16567.69"
      ]
     },
     "execution_count": 120,
     "metadata": {},
     "output_type": "execute_result"
    }
   ],
   "source": [
    "test_data[0][0].head(1)"
   ]
  },
  {
   "cell_type": "markdown",
   "metadata": {},
   "source": [
    "### Auto arima "
   ]
  },
  {
   "cell_type": "code",
   "execution_count": 121,
   "metadata": {},
   "outputs": [],
   "source": [
    "from pmdarima.arima import auto_arima"
   ]
  },
  {
   "cell_type": "code",
   "execution_count": 122,
   "metadata": {},
   "outputs": [],
   "source": [
    "l_auto = []\n",
    "pred_out = pd.DataFrame()\n",
    "def auto_mod_all(D,store,dept,exog,exog_test,pdq,seasonal_pdq):\n",
    "    pred_dict = {'Store':store,'Dept':dept,'Pred':['x']*39,'Week_no':range(1,40)}\n",
    "    pred_out_mod = pd.DataFrame(pred_dict,index=range(0,39))\n",
    "    for X in [1,2]:\n",
    "        try:       \n",
    "            if X == 1: #For good data\n",
    "                print('1',end='\\r')\n",
    "                auto_model = auto_arima(D,exogenous=exog,#n_fits=50,\n",
    "                    start_p=3,d=1,start_q=0,max_p=5,max_d=2,max_q=3,\n",
    "                    start_P=1,D=0,start_Q=0,max_P=3,max_D=1,max_Q=1,\n",
    "                    m=52,seasonal=False,stationary=False,information_criterion='aic',alpha=0.05,#n_jobs=-1,\n",
    "                    trace=False, suppress_warnings=False) #error_action='ignore'\n",
    "                auto_model.fit(D)\n",
    "                run = 1\n",
    "                if run == 1:\n",
    "                    pred_mean = auto_model.predict(n_periods=39,exogenous=exog_test,return_conf_int=False,alpha=0.05)\n",
    "                    prediction = pd.Series(pred_mean)\n",
    "                    pred_dict = {'Store':store,'Dept':dept,'Pred':prediction,'Week_no':range(1,len(prediction)+1)}\n",
    "                    pred_out_mod = pd.DataFrame(pred_dict,index=range(0,len(prediction)))\n",
    "                    break\n",
    "            if X == 2: #For data not having sufficient number of records\n",
    "                print('2',end='\\r')\n",
    "                auto_model = auto_arima(D,exogenous=exog,\n",
    "                                        #start_p=3,d=1,start_q=0,max_p=5,max_d=2,max_q=3,\n",
    "                    m=52,seasonal=False,stationary=False,information_criterion='aic',alpha=0.05,#n_jobs=-1,\n",
    "                    trace=False, error_action='ignore', suppress_warnings=True)\n",
    "                auto_model.fit(D)\n",
    "            \n",
    "            pred_mean = auto_model.predict(n_periods=39,exogenous=exog_test,return_conf_int=False,alpha=0.05)\n",
    "            prediction = pd.Series(pred_mean)\n",
    "            pred_dict = {'Store':store,'Dept':dept,'Pred':prediction,'Week_no':range(1,len(prediction)+1)}\n",
    "            pred_out_mod = pd.DataFrame(pred_dict,index=range(0,len(prediction)))\n",
    "        except:\n",
    "            continue\n",
    "\n",
    "    #pred_mean = auto_model.predict(n_periods=39,exogenous=None,return_conf_int=False,alpha=0.05)\n",
    "    #prediction = pd.Series(pred_mean)\n",
    "    #l_auto.append((x,MAPE))\n",
    "    #print('Store :{} Dept :{} '.format(store,dept))\n",
    "    \n",
    "    return pred_out_mod"
   ]
  },
  {
   "cell_type": "code",
   "execution_count": 51,
   "metadata": {},
   "outputs": [
    {
     "name": "stdout",
     "output_type": "stream",
     "text": [
      "--- 6872.0470588207245 seconds ---\n"
     ]
    }
   ],
   "source": [
    "start_time = time.time()\n",
    "for i in range(0,45): \n",
    "    #count = 0\n",
    "    #name = str(i) + str('.csv')\n",
    "    #pred_out.to_csv(name)\n",
    "    for j in range(0,99):\n",
    "        data_all = D[i][j][['Date','Weekly_Sales','Markdown_bin']]\n",
    "        data_all = data_all.set_index(data_all.Date)\n",
    "        data = data_all[['Weekly_Sales']]\n",
    "        exog = data_all[['Markdown_bin']]\n",
    "        exog_test = D_test[i][j][['Markdown_bin']]\n",
    "        #print(data.shape)\n",
    "        if not len(data) <= 1:     \n",
    "            #if i <= 4: \n",
    "            dept=j+1\n",
    "            store=i+1\n",
    "            if j in [14,52,56,60,61,62,63,64,65,67,68,69,72,74,75,83,85,87,88]: \n",
    "                #No Dept available \n",
    "                continue\n",
    "            elif j in [38,42,44,46,50,76,77,98]: \n",
    "                #Limited data\n",
    "                #continue\n",
    "                pred_out_1 = auto_mod_all(data,store,dept,exog,exog_test,1,1) #X == 2\n",
    "            #elif i in [49]: #store 10 has the data\n",
    "            #    dept=i+1\n",
    "            #    auto_mod(train_data[9][i],test_data[9][i],dept,1,1,1) #X == 1           \n",
    "            else:\n",
    "                #pdq = pdq_PDQ(i)[0][0]\n",
    "                #seasonal_pdq = pdq_PDQ(i)[0][1]\n",
    "                pred_out_1 = auto_mod_all(data,store,dept,exog,exog_test,1,1) #X == 0\n",
    "            pred_out = pd.concat([pred_out,pred_out_1],axis=0)\n",
    "            #count+=1\n",
    "            #if count>= 1:\n",
    "                #break\n",
    "print(\"--- %s seconds ---\" % (time.time() - start_time))"
   ]
  },
  {
   "cell_type": "code",
   "execution_count": 134,
   "metadata": {},
   "outputs": [],
   "source": [
    "pred_out = pred_out.reset_index(drop=True)"
   ]
  },
  {
   "cell_type": "code",
   "execution_count": 53,
   "metadata": {},
   "outputs": [
    {
     "name": "stdout",
     "output_type": "stream",
     "text": [
      "(128427, 4)\n"
     ]
    }
   ],
   "source": [
    "print(pred_out.shape)\n",
    "pred_out.head();"
   ]
  },
  {
   "cell_type": "code",
   "execution_count": 54,
   "metadata": {},
   "outputs": [],
   "source": [
    "#pred_out.to_excel('Forecast_pred_arima_3012.xlsx') #--- 6872.0470588207245 seconds ---"
   ]
  },
  {
   "cell_type": "code",
   "execution_count": 135,
   "metadata": {},
   "outputs": [
    {
     "data": {
      "text/html": [
       "<div>\n",
       "<style scoped>\n",
       "    .dataframe tbody tr th:only-of-type {\n",
       "        vertical-align: middle;\n",
       "    }\n",
       "\n",
       "    .dataframe tbody tr th {\n",
       "        vertical-align: top;\n",
       "    }\n",
       "\n",
       "    .dataframe thead th {\n",
       "        text-align: right;\n",
       "    }\n",
       "</style>\n",
       "<table border=\"1\" class=\"dataframe\">\n",
       "  <thead>\n",
       "    <tr style=\"text-align: right;\">\n",
       "      <th></th>\n",
       "      <th>Store</th>\n",
       "      <th>Dept</th>\n",
       "      <th>Pred</th>\n",
       "      <th>Week_no</th>\n",
       "    </tr>\n",
       "  </thead>\n",
       "  <tbody>\n",
       "  </tbody>\n",
       "</table>\n",
       "</div>"
      ],
      "text/plain": [
       "Empty DataFrame\n",
       "Columns: [Store, Dept, Pred, Week_no]\n",
       "Index: []"
      ]
     },
     "execution_count": 135,
     "metadata": {},
     "output_type": "execute_result"
    }
   ],
   "source": [
    "pred_out[pred_out.Pred=='x']"
   ]
  },
  {
   "cell_type": "markdown",
   "metadata": {},
   "source": [
    "### ----------------------------------------------------------------------------------------------------------------------------"
   ]
  },
  {
   "cell_type": "code",
   "execution_count": null,
   "metadata": {},
   "outputs": [],
   "source": []
  },
  {
   "cell_type": "code",
   "execution_count": null,
   "metadata": {},
   "outputs": [],
   "source": []
  },
  {
   "cell_type": "code",
   "execution_count": null,
   "metadata": {},
   "outputs": [],
   "source": []
  },
  {
   "cell_type": "code",
   "execution_count": null,
   "metadata": {},
   "outputs": [],
   "source": []
  },
  {
   "cell_type": "code",
   "execution_count": null,
   "metadata": {},
   "outputs": [],
   "source": []
  },
  {
   "cell_type": "code",
   "execution_count": null,
   "metadata": {},
   "outputs": [],
   "source": []
  },
  {
   "cell_type": "code",
   "execution_count": null,
   "metadata": {},
   "outputs": [],
   "source": []
  },
  {
   "cell_type": "code",
   "execution_count": null,
   "metadata": {},
   "outputs": [],
   "source": []
  },
  {
   "cell_type": "code",
   "execution_count": null,
   "metadata": {},
   "outputs": [],
   "source": []
  },
  {
   "cell_type": "code",
   "execution_count": null,
   "metadata": {},
   "outputs": [],
   "source": []
  },
  {
   "cell_type": "code",
   "execution_count": null,
   "metadata": {},
   "outputs": [],
   "source": []
  },
  {
   "cell_type": "code",
   "execution_count": null,
   "metadata": {},
   "outputs": [],
   "source": []
  },
  {
   "cell_type": "markdown",
   "metadata": {},
   "source": [
    "### ----------------------------------------------------------------------------------------------------------------------------"
   ]
  },
  {
   "cell_type": "markdown",
   "metadata": {},
   "source": [
    "Miscellaneous"
   ]
  },
  {
   "cell_type": "markdown",
   "metadata": {},
   "source": [
    "**Stats model ARIMA**"
   ]
  },
  {
   "cell_type": "markdown",
   "metadata": {},
   "source": [
    "(not used)"
   ]
  },
  {
   "cell_type": "raw",
   "metadata": {},
   "source": [
    "def stat_mod(train,test,dept,pdq,seasonal_pdq):\n",
    "    warnings.filterwarnings(\"ignore\") # specify to ignore warning messages\n",
    "\n",
    "    best_aic = np.inf\n",
    "    best_pdq = None\n",
    "    best_seasonal_pdq = None\n",
    "    temp_model = None\n",
    "\n",
    "    for param in pdq:\n",
    "        for param_seasonal in seasonal_pdq:\n",
    "        \n",
    "            try:\n",
    "                temp_model = sm.tsa.statespace.SARIMAX(train,order = param,seasonal_order = param_seasonal,enforce_stationarity=False,enforce_invertibility=False)\n",
    "                results = temp_model.fit()\n",
    "\n",
    "                print('SARIMAX{}x{} - AIC:{}'.format(param, param_seasonal, results.aic), end='\\r')\n",
    "                if results.aic < best_aic:\n",
    "                    best_aic = results.aic\n",
    "                    best_pdq = param\n",
    "                    best_seasonal_pdq = param_seasonal\n",
    "            except:\n",
    "                #print(\"Unexpected error:\", sys.exc_info()[0])\n",
    "                continue\n",
    "                \n",
    "    best_model = sm.tsa.statespace.SARIMAX(train,order=best_pdq,seasonal_order=best_seasonal_pdq,enforce_stationarity=False,enforce_invertibility=False)\n",
    "    best_results = best_model.fit()\n",
    "\n",
    "    n_steps = 13\n",
    "    pred = best_results.get_forecast(steps=n_steps, alpha=0.05) # alpha=0.05 95% CI\n",
    "    pred_mean = pred.predicted_mean\n",
    "    \n",
    "    truth = test.Weekly_Sales.reset_index(drop=True)\n",
    "    prediction = pred_mean.reset_index(drop=True)\n",
    "    MAPE = np.mean(np.abs((truth - prediction) / truth))\n",
    "\n",
    "    l.append((dept,MAPE,best_pdq, best_seasonal_pdq, best_aic))\n",
    "    print(dept,MAPE,best_pdq, best_seasonal_pdq, best_aic)"
   ]
  },
  {
   "cell_type": "raw",
   "metadata": {},
   "source": [
    "l = []\n",
    "for i in range(0,99): \n",
    "    if i == 0: \n",
    "        #train = train_data[0][i]\n",
    "        #test = test_data[0][i]\n",
    "        pdq = pdq_PDQ(i)[0][0]\n",
    "        seasonal_pdq = pdq_PDQ(i)[0][1]\n",
    "        x=i+1\n",
    "        #stat_mod(train_data[0][i],test_data[0][i],x)    "
   ]
  },
  {
   "cell_type": "raw",
   "metadata": {},
   "source": [
    "Dept :1 MAPE :0.20280420171056812\n",
    "Dept :2 MAPE :0.05298171787346152\n",
    "Dept :3 MAPE :0.2039334093696806\n",
    "...\n",
    "Dept :96 MAPE :0.10001872269404337\n",
    "Dept :97 MAPE :0.0752824687988184\n",
    "Dept :98 MAPE :0.1442297275260137"
   ]
  },
  {
   "cell_type": "markdown",
   "metadata": {},
   "source": [
    "### ----------------------------------------------------------------------------------------------------------------------------"
   ]
  },
  {
   "cell_type": "markdown",
   "metadata": {},
   "source": [
    "**Setting the list of values for the pdq and seasonal_pdq** (for the stats model)"
   ]
  },
  {
   "cell_type": "raw",
   "metadata": {},
   "source": [
    "def pdq_range():\n",
    "    # Define the d and q parameters to take any value between 0 and 1\n",
    "    q = d = range(0, 3)\n",
    "    # Define the p parameters to take any value between 0 and 3\n",
    "    p = range(0, 4)\n",
    "\n",
    "    # Generate all different combinations of p, q and q triplets\n",
    "    pdq = list(itertools.product(p, d, q))\n",
    "\n",
    "    # Generate all different combinations of seasonal p, q and q triplets\n",
    "    seasonal_pdq = [(x[0], x[1], x[2], 52) for x in list(itertools.product(p, d, q))]\n",
    "    return (pdq,seasonal_pdq)"
   ]
  },
  {
   "cell_type": "raw",
   "metadata": {},
   "source": [
    "#Predefined pdq based on analysis\n",
    "pdq_310 = [2,3,6,8,12,15,17,19,20,21,22,24,26,27,29,31,32,33,34,36,37,41,47,48,51,53,54,57,58,71,73,78,79,84,86,89,91,92,94,96]\n",
    "pdq_311 = [0,1,4,7,9,10,11,13,16,18,23,25,28,30,39,40,43,45,55,66,70,80,81,82,90,93,95,97]\n",
    "PDQ_20052 = [0,1,2,3,5,6,7,8,9,10,11,12,13,15,16,17,18,19,20,21,22,24,26,27,28,29,31,32,33,34,35,36,37,39,40,41,43,45,47,48,51,53,54,57,58,59,66,70,71,73,78,79,80,81,82,84,86,89,90,91,92,93,94,95,96,97]\n",
    "PDQ_11052 = [4,23,25,30,55]"
   ]
  },
  {
   "cell_type": "raw",
   "metadata": {},
   "source": [
    "def pdq_PDQ(i):\n",
    "    lpdq = []\n",
    "    if i in pdq_310:\n",
    "        pdq = [(3,1,0)]\n",
    "    elif i in pdq_311:\n",
    "        pdq = [(3,1,1)]\n",
    "    else:\n",
    "        pdq = pdq_range()[0]\n",
    "\n",
    "    if i in PDQ_20052:\n",
    "        seasonal_pdq = [(2,0,0,52)]\n",
    "    elif i in PDQ_11052:\n",
    "        seasonal_pdq = [(1,1,0,52)]\n",
    "    else:\n",
    "        seasonal_pdq = pdq_range()[1]\n",
    "        \n",
    "    lpdq.append((pdq,seasonal_pdq))\n",
    "    return lpdq"
   ]
  },
  {
   "cell_type": "markdown",
   "metadata": {},
   "source": [
    "### ----------------------------------------------------------------------------------------------------------------------------"
   ]
  }
 ],
 "metadata": {
  "kernelspec": {
   "display_name": "Python 3",
   "language": "python",
   "name": "python3"
  },
  "language_info": {
   "codemirror_mode": {
    "name": "ipython",
    "version": 3
   },
   "file_extension": ".py",
   "mimetype": "text/x-python",
   "name": "python",
   "nbconvert_exporter": "python",
   "pygments_lexer": "ipython3",
   "version": "3.7.4"
  }
 },
 "nbformat": 4,
 "nbformat_minor": 2
}
